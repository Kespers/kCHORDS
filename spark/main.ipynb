{
 "cells": [
  {
   "cell_type": "markdown",
   "id": "66bfc243",
   "metadata": {},
   "source": [
    "# Setup"
   ]
  },
  {
   "cell_type": "code",
   "execution_count": 2,
   "id": "494b3fa6-3503-43b4-8ba4-6dabbcdef462",
   "metadata": {},
   "outputs": [],
   "source": [
    "import pyspark.sql.functions as F\n",
    "from pyspark.sql import SparkSession\n",
    "from pyspark.sql.types import StructType, StructField, IntegerType, TimestampType, StringType, ArrayType, DoubleType, FloatType\n",
    "from pyspark.sql.functions import from_json, col, udf, row_number, lit\n",
    "from pyspark.sql import SparkSession\n",
    "from pyspark.sql.functions import udf, col\n",
    "from pyspark.sql.functions import col\n",
    "from pyspark.ml.linalg import Vectors\n",
    "from pyspark.sql import functions as F\n",
    "from pyspark.sql.functions import col\n",
    "from pyspark.sql import functions as F\n",
    "from pyspark.ml.linalg import Vectors\n",
    "import numpy as np\n",
    "from sklearn.metrics.pairwise import cosine_similarity\n",
    "\n",
    "from track_separator.download_mp3 import download_mp3\n",
    "from track_separator.spleeter import separate_track\n",
    "from scraper.script import scrape_chords\n",
    "from reccomendation_system.reccomendation import *"
   ]
  },
  {
   "cell_type": "code",
   "execution_count": null,
   "id": "2c3f63f2",
   "metadata": {},
   "outputs": [],
   "source": [
    "spark = SparkSession.builder \\\n",
    "\t.appName(\"kCHORDS\") \\\n",
    "\t.getOrCreate()\n",
    "\n",
    "spark.sparkContext.setLogLevel(\"INFO\")"
   ]
  },
  {
   "cell_type": "code",
   "execution_count": 4,
   "id": "b91e655a",
   "metadata": {},
   "outputs": [],
   "source": [
    "df_song_requests_raw = spark.readStream \\\n",
    "    .format(\"kafka\") \\\n",
    "    .option(\"kafka.bootstrap.servers\", \"kafkaServer:9092\") \\\n",
    "    .option(\"subscribe\", \"songRequests\") \\\n",
    "    .load()"
   ]
  },
  {
   "cell_type": "code",
   "execution_count": 5,
   "id": "1e34efc7",
   "metadata": {},
   "outputs": [],
   "source": [
    "\n",
    "SONG_REQUEST_SCHEMA = StructType([\n",
    "    StructField(\"Yt_Id\", StringType(), True),\n",
    "    StructField(\"Yt_Link\", StringType(), True),\n",
    "    StructField(\"UgChords_Link\", StringType(), True),\n",
    "    StructField(\"Request_Date\", TimestampType(), True),\n",
    "])"
   ]
  },
  {
   "cell_type": "code",
   "execution_count": 6,
   "id": "30625a91",
   "metadata": {},
   "outputs": [],
   "source": [
    "def print_df(df):\n",
    "\tquery = df.writeStream \\\n",
    "\t.outputMode(\"append\") \\\n",
    "\t.format(\"console\") \\\n",
    "\t.start()\n",
    "\n",
    "\tquery.awaitTermination()"
   ]
  },
  {
   "cell_type": "markdown",
   "id": "436b8ef0",
   "metadata": {},
   "source": [
    "# Lettura da topic Input"
   ]
  },
  {
   "cell_type": "code",
   "execution_count": 7,
   "id": "edcc9774",
   "metadata": {},
   "outputs": [],
   "source": [
    "df_song_requests = df_song_requests_raw \\\n",
    "\t.selectExpr(\"CAST(value AS STRING)\") \\\n",
    "\t.select(from_json(col(\"value\"), SONG_REQUEST_SCHEMA).alias(\"data\")) \\\n",
    "\t.select(\"data.*\")"
   ]
  },
  {
   "cell_type": "markdown",
   "id": "0adc2b9d",
   "metadata": {},
   "source": [
    "# Scraping accordi"
   ]
  },
  {
   "cell_type": "code",
   "execution_count": 8,
   "id": "b7d62c8f",
   "metadata": {},
   "outputs": [],
   "source": [
    "@udf(returnType=StringType())\n",
    "def scrape_chords_udf(chords_link):\n",
    "\treturn scrape_chords(chords_link)\n",
    "\n",
    "df_chords_raw = df_song_requests.withColumn(\"scraped_data_raw\", scrape_chords_udf(col(\"UgChords_Link\")))"
   ]
  },
  {
   "cell_type": "code",
   "execution_count": 9,
   "id": "b6fffce8",
   "metadata": {},
   "outputs": [
    {
     "name": "stdout",
     "output_type": "stream",
     "text": [
      "root\n",
      " |-- Yt_Id: string (nullable = true)\n",
      " |-- Yt_Link: string (nullable = true)\n",
      " |-- UgChords_Link: string (nullable = true)\n",
      " |-- Request_Date: timestamp (nullable = true)\n",
      " |-- scraped_data_raw: string (nullable = true)\n",
      " |-- scraped_data: struct (nullable = true)\n",
      " |    |-- added_favorites: integer (nullable = true)\n",
      " |    |-- artist: struct (nullable = true)\n",
      " |    |    |-- name: string (nullable = true)\n",
      " |    |    |-- profile_link: string (nullable = true)\n",
      " |    |-- author: struct (nullable = true)\n",
      " |    |    |-- profile_link: string (nullable = true)\n",
      " |    |    |-- username: string (nullable = true)\n",
      " |    |-- capo_position: string (nullable = true)\n",
      " |    |-- chords: string (nullable = true)\n",
      " |    |-- comments: array (nullable = true)\n",
      " |    |    |-- element: struct (containsNull = true)\n",
      " |    |    |    |-- author: string (nullable = true)\n",
      " |    |    |    |-- message: string (nullable = true)\n",
      " |    |    |    |-- date: timestamp (nullable = true)\n",
      " |    |    |    |-- upvote: integer (nullable = true)\n",
      " |    |-- difficulty: string (nullable = true)\n",
      " |    |-- key: string (nullable = true)\n",
      " |    |-- more_versions: array (nullable = true)\n",
      " |    |    |-- element: struct (containsNull = true)\n",
      " |    |    |    |-- link: string (nullable = true)\n",
      " |    |    |    |-- name: string (nullable = true)\n",
      " |    |    |    |-- stars: integer (nullable = true)\n",
      " |    |-- name: string (nullable = true)\n",
      " |    |-- related_tabs: array (nullable = true)\n",
      " |    |    |-- element: struct (containsNull = true)\n",
      " |    |    |    |-- link: string (nullable = true)\n",
      " |    |    |    |-- name: string (nullable = true)\n",
      " |    |    |    |-- stars: integer (nullable = true)\n",
      " |    |-- stars: integer (nullable = true)\n",
      " |    |-- tuning: string (nullable = true)\n",
      " |    |-- url: string (nullable = true)\n",
      " |    |-- views: integer (nullable = true)\n",
      "\n"
     ]
    }
   ],
   "source": [
    "ArtistType = StructType([\n",
    "\tStructField('name', StringType(), True),\n",
    "\tStructField('profile_link', StringType(), True),\n",
    "])\n",
    "\n",
    "AuthorType = StructType([\n",
    "\tStructField('profile_link', StringType(), True),\n",
    "\tStructField('username', StringType(), True),\n",
    "])\n",
    "\n",
    "CommentsType = \tArrayType(StructType([\n",
    "        StructField('author', StringType(), True),\n",
    "\t\tStructField('message', StringType(), True),\n",
    "\t\tStructField('date', TimestampType(), True),\n",
    "\t\tStructField('upvote', IntegerType(), True)\n",
    "]))\n",
    "\n",
    "tab_schema = ArrayType(StructType([\n",
    "\tStructField('link', StringType(), True),\n",
    "\tStructField('name', StringType(), True),\n",
    "\tStructField('stars', IntegerType(), True),\n",
    "]))\n",
    "MoreVersionType = tab_schema\n",
    "RelatedTabsType = tab_schema\n",
    "\n",
    "CHORDS_SCHEMA = StructType(\n",
    "    [\n",
    "        StructField('added_favorites', IntegerType(), True),\n",
    "        StructField('artist', ArtistType, True),\n",
    "        StructField('author', AuthorType, True),\n",
    "        StructField('capo_position', StringType(), True),\n",
    "        StructField('chords', StringType(), True),\n",
    "        StructField('comments', CommentsType, True),\n",
    "        StructField('difficulty', StringType(), True),\n",
    "        StructField('key', StringType(), True),\n",
    "        StructField('more_versions', MoreVersionType, True),\n",
    "        StructField('name', StringType(), True),\n",
    "        StructField('related_tabs', RelatedTabsType, True),\n",
    "        StructField('stars', IntegerType(), True),\n",
    "        StructField('tuning', StringType(), True),\n",
    "        StructField('url', StringType(), True),\n",
    "        StructField('views', IntegerType(), True),\n",
    "    ]\n",
    ")\n",
    "\n",
    "df_chords = df_chords_raw \\\n",
    "    .select(\"*\", from_json(col(\"scraped_data_raw\"), CHORDS_SCHEMA).alias(\"scraped_data\"))\n",
    "\n",
    "df_chords.printSchema()"
   ]
  },
  {
   "cell_type": "markdown",
   "id": "fc1b60ff",
   "metadata": {},
   "source": [
    "# Estrazione audio tracks"
   ]
  },
  {
   "cell_type": "code",
   "execution_count": 10,
   "id": "aa8326a9",
   "metadata": {},
   "outputs": [
    {
     "name": "stdout",
     "output_type": "stream",
     "text": [
      "root\n",
      " |-- Yt_Id: string (nullable = true)\n",
      " |-- Yt_Link: string (nullable = true)\n",
      " |-- UgChords_Link: string (nullable = true)\n",
      " |-- Request_Date: timestamp (nullable = true)\n",
      " |-- Hdfs_Song_Path: string (nullable = true)\n",
      "\n"
     ]
    }
   ],
   "source": [
    "@udf(returnType=StringType())\n",
    "def download_mp3_udf(yt_link, request_id):\n",
    "\treturn download_mp3(yt_link, request_id)\n",
    "\n",
    "\n",
    "df_audio = df_song_requests.withColumn(\"Hdfs_Song_Path\", download_mp3_udf(col(\"Yt_Link\"), col(\"Yt_Id\")))\n",
    "df_audio.printSchema()"
   ]
  },
  {
   "cell_type": "code",
   "execution_count": 11,
   "id": "b73975bf",
   "metadata": {},
   "outputs": [
    {
     "name": "stdout",
     "output_type": "stream",
     "text": [
      "root\n",
      " |-- Yt_Id: string (nullable = true)\n",
      " |-- Yt_Link: string (nullable = true)\n",
      " |-- UgChords_Link: string (nullable = true)\n",
      " |-- Request_Date: timestamp (nullable = true)\n",
      " |-- Hdfs_Song_Path: string (nullable = true)\n",
      " |-- Hdfs_Tracks_Path: string (nullable = true)\n",
      "\n"
     ]
    }
   ],
   "source": [
    "@udf(returnType=StringType())\n",
    "def separate_track_udf(hdfs_song_path, request_id):\n",
    "\treturn separate_track(hdfs_song_path, request_id)\n",
    "\n",
    "\n",
    "df_separated_tracks = df_audio.withColumn(\"Hdfs_Tracks_Path\", separate_track_udf(col(\"Hdfs_Song_Path\"), col(\"Yt_Id\")))\n",
    "\n",
    "df_separated_tracks \\\n",
    "\t.printSchema()"
   ]
  },
  {
   "cell_type": "markdown",
   "id": "1000c9db",
   "metadata": {},
   "source": [
    "# Sistema di Raccomandazione"
   ]
  },
  {
   "cell_type": "code",
   "execution_count": 12,
   "id": "e527d4c1",
   "metadata": {},
   "outputs": [
    {
     "name": "stdout",
     "output_type": "stream",
     "text": [
      "+-----+--------------------+------------------+------------+------+------------------+-----------+------------+----------------+--------+-------+-------------------+--------------+--------------+-----------------+-------------+-----------+---------------+-------------+-----------+-----------+-------------+----------------+----------+----------+------------+-------------+-----------+-----------+----------+-----------+-----------+---------+----------+----------+---------------+------------+------------+\n",
      "|index|            track_id|        popularity|danceability|energy|          loudness|speechiness|acousticness|instrumentalness|liveness|valence|              tempo|genre_acoustic|genre_alt-rock|genre_alternative|genre_ambient|genre_blues|genre_classical|genre_country|genre_dance|genre_disco|genre_electro|genre_electronic|genre_folk|genre_funk|genre_gospel|genre_hip-hop|genre_house|genre_indie|genre_jazz|genre_latin|genre_metal|genre_pop|genre_rock|genre_soul|genre_synth-pop|genre_techno|genre_trance|\n",
      "+-----+--------------------+------------------+------------+------+------------------+-----------+------------+----------------+--------+-------+-------------------+--------------+--------------+-----------------+-------------+-----------+---------------+-------------+-----------+-----------+-------------+----------------+----------+----------+------------+-------------+-----------+-----------+----------+-----------+-----------+---------+----------+----------+---------------+------------+------------+\n",
      "|    0|5SuOikwiRyPMVoIQD...|              0.73|       0.676| 0.461|0.8614224939745394|      0.143|      0.0322|         1.01E-6|   0.358|  0.715|0.35166800000000004|           1.0|           0.0|              0.0|          0.0|        0.0|            0.0|          0.0|        0.0|        0.0|          0.0|             0.0|       0.0|       0.0|         0.0|          0.0|        0.0|        0.0|       0.0|        0.0|        0.0|      0.0|       0.0|       0.0|            0.0|         0.0|         0.0|\n",
      "|    1|4qPNDBW1i3p13qLCt...|              0.55|        0.42| 0.166|0.6917552288057456|     0.0763|       0.924|         5.56E-6|   0.101|  0.267|           0.309956|           1.0|           0.0|              0.0|          0.0|        0.0|            0.0|          0.0|        0.0|        0.0|          0.0|             0.0|       0.0|       0.0|         0.0|          0.0|        0.0|        0.0|       0.0|        0.0|        0.0|      0.0|       0.0|       0.0|            0.0|         0.0|         0.0|\n",
      "|    2|1iJBSr7s7jYXzM8EG...|0.5700000000000001|       0.438| 0.359|0.8130894032772036|     0.0557|        0.21|             0.0|   0.117|   0.12|           0.305328|           1.0|           0.0|              0.0|          0.0|        0.0|            0.0|          0.0|        0.0|        0.0|          0.0|             0.0|       0.0|       0.0|         0.0|          0.0|        0.0|        0.0|       0.0|        0.0|        0.0|      0.0|       0.0|       0.0|            0.0|         0.0|         0.0|\n",
      "|    3|6lfxq3CG4xtTiEg7o...|              0.71|       0.266|0.0596|0.6710502903544103|     0.0363|       0.905|         7.07E-5|   0.132|  0.143|            0.72696|           1.0|           0.0|              0.0|          0.0|        0.0|            0.0|          0.0|        0.0|        0.0|          0.0|             0.0|       0.0|       0.0|         0.0|          0.0|        0.0|        0.0|       0.0|        0.0|        0.0|      0.0|       0.0|       0.0|            0.0|         0.0|         0.0|\n",
      "|    4|5vjLSffimiIP26QG5...|0.8200000000000001|       0.618| 0.443|0.8139467171349541|     0.0526|       0.469|             0.0|  0.0829|  0.167|           0.479796|           1.0|           0.0|              0.0|          0.0|        0.0|            0.0|          0.0|        0.0|        0.0|          0.0|             0.0|       0.0|       0.0|         0.0|          0.0|        0.0|        0.0|       0.0|        0.0|        0.0|      0.0|       0.0|       0.0|            0.0|         0.0|         0.0|\n",
      "|    5|01MVOl9KtVTNfFiBU...|              0.58|       0.688| 0.481|0.8280843079212565|      0.105|       0.289|             0.0|   0.189|  0.666|0.39206799999999997|           1.0|           0.0|              0.0|          0.0|        0.0|            0.0|          0.0|        0.0|        0.0|          0.0|             0.0|       0.0|       0.0|         0.0|          0.0|        0.0|        0.0|       0.0|        0.0|        0.0|      0.0|       0.0|       0.0|            0.0|         0.0|         0.0|\n",
      "|    6|6Vc5wAMmXdKIAM7WU...|              0.74|       0.407| 0.147|  0.82784167192378|     0.0355|       0.857|         2.89E-6|  0.0913| 0.0765|           0.565136|           1.0|           0.0|              0.0|          0.0|        0.0|            0.0|          0.0|        0.0|        0.0|          0.0|             0.0|       0.0|       0.0|         0.0|          0.0|        0.0|        0.0|       0.0|        0.0|        0.0|      0.0|       0.0|       0.0|            0.0|         0.0|         0.0|\n",
      "|    7|1EzrEOXmMH3G43AXT...|               0.8|       0.703| 0.444|0.8196082237427411|     0.0417|       0.559|             0.0|  0.0973|  0.712|            0.60384|           1.0|           0.0|              0.0|          0.0|        0.0|            0.0|          0.0|        0.0|        0.0|          0.0|             0.0|       0.0|       0.0|         0.0|          0.0|        0.0|        0.0|       0.0|        0.0|        0.0|      0.0|       0.0|       0.0|            0.0|         0.0|         0.0|\n",
      "|    8|0IktbUcnAGrvD03AW...|              0.74|       0.625| 0.414|0.8298151113699228|     0.0369|       0.294|             0.0|   0.151|  0.669|           0.520352|           1.0|           0.0|              0.0|          0.0|        0.0|            0.0|          0.0|        0.0|        0.0|          0.0|             0.0|       0.0|       0.0|         0.0|          0.0|        0.0|        0.0|       0.0|        0.0|        0.0|      0.0|       0.0|       0.0|            0.0|         0.0|         0.0|\n",
      "|    9|7k9GuJYLp2AzqokyE...|              0.56|       0.442| 0.632|0.8610342763785769|     0.0295|       0.426|         0.00419|  0.0735|  0.196|           0.315596|           1.0|           0.0|              0.0|          0.0|        0.0|            0.0|          0.0|        0.0|        0.0|          0.0|             0.0|       0.0|       0.0|         0.0|          0.0|        0.0|        0.0|       0.0|        0.0|        0.0|      0.0|       0.0|       0.0|            0.0|         0.0|         0.0|\n",
      "|   10|4mzP5mHkRvGxdhdGd...|              0.74|       0.627| 0.363|0.8390838064735284|     0.0291|       0.279|             0.0|  0.0928|  0.301|0.39962000000000003|           1.0|           0.0|              0.0|          0.0|        0.0|            0.0|          0.0|        0.0|        0.0|          0.0|             0.0|       0.0|       0.0|         0.0|          0.0|        0.0|        0.0|       0.0|        0.0|        0.0|      0.0|       0.0|       0.0|            0.0|         0.0|         0.0|\n",
      "|   11|5ivF4eQBqJiVL5IAE...|0.6900000000000001|       0.483| 0.303|0.8078484657317093|     0.0429|       0.694|             0.0|   0.115|  0.139|           0.533624|           1.0|           0.0|              0.0|          0.0|        0.0|            0.0|          0.0|        0.0|        0.0|          0.0|             0.0|       0.0|       0.0|         0.0|          0.0|        0.0|        0.0|       0.0|        0.0|        0.0|      0.0|       0.0|       0.0|            0.0|         0.0|         0.0|\n",
      "|   12|4ptDJbJl35d7gQfeN...|              0.52|       0.489| 0.314|0.8209993367949402|     0.0331|       0.749|             0.0|   0.113|  0.607|           0.496936|           1.0|           0.0|              0.0|          0.0|        0.0|            0.0|          0.0|        0.0|        0.0|          0.0|             0.0|       0.0|       0.0|         0.0|          0.0|        0.0|        0.0|       0.0|        0.0|        0.0|      0.0|       0.0|       0.0|            0.0|         0.0|         0.0|\n",
      "|   13|0X9MxHR1rTkEHDjp9...|              0.62|       0.691| 0.234|0.8663560925898967|     0.0285|       0.777|             0.0|    0.12|  0.209|           0.348412|           1.0|           0.0|              0.0|          0.0|        0.0|            0.0|          0.0|        0.0|        0.0|          0.0|             0.0|       0.0|       0.0|         0.0|          0.0|        0.0|        0.0|       0.0|        0.0|        0.0|      0.0|       0.0|       0.0|            0.0|         0.0|         0.0|\n",
      "|   14|4LbWtBkN82ZRhz9jq...|              0.56|       0.755|  0.78|0.8721308293298393|     0.0327|       0.124|         2.83E-5|   0.121|  0.387|0.48001600000000005|           1.0|           0.0|              0.0|          0.0|        0.0|            0.0|          0.0|        0.0|        0.0|          0.0|             0.0|       0.0|       0.0|         0.0|          0.0|        0.0|        0.0|       0.0|        0.0|        0.0|      0.0|       0.0|       0.0|            0.0|         0.0|         0.0|\n",
      "|   15|1KHdq8NK9QxnGjdXb...|              0.58|       0.489| 0.561|0.8422218987075589|     0.0274|         0.2|         4.56E-5|   0.179|  0.238|0.33382799999999996|           1.0|           0.0|              0.0|          0.0|        0.0|            0.0|          0.0|        0.0|        0.0|          0.0|             0.0|       0.0|       0.0|         0.0|          0.0|        0.0|        0.0|       0.0|        0.0|        0.0|      0.0|       0.0|       0.0|            0.0|         0.0|         0.0|\n",
      "|   16|6xKeQgzfjixSUld14...|              0.56|       0.706| 0.112|0.6777955710842594|     0.0391|       0.827|         4.03E-6|   0.125|  0.414|           0.440616|           1.0|           0.0|              0.0|          0.0|        0.0|            0.0|          0.0|        0.0|        0.0|          0.0|             0.0|       0.0|       0.0|         0.0|          0.0|        0.0|        0.0|       0.0|        0.0|        0.0|      0.0|       0.0|       0.0|            0.0|         0.0|         0.0|\n",
      "|   17|4Yo0igmcoNyat1sec...|              0.54|       0.795|0.0841|0.6779249769495803|     0.0461|       0.742|         1.17E-5|  0.0853|  0.609|           0.367212|           1.0|           0.0|              0.0|          0.0|        0.0|            0.0|          0.0|        0.0|        0.0|          0.0|             0.0|       0.0|       0.0|         0.0|          0.0|        0.0|        0.0|       0.0|        0.0|        0.0|      0.0|       0.0|       0.0|            0.0|         0.0|         0.0|\n",
      "|   18|2qLMf6TuEC3ruGJg4...|              0.68|       0.625| 0.414|0.8298151113699228|     0.0369|       0.294|             0.0|   0.151|  0.669|           0.520352|           1.0|           0.0|              0.0|          0.0|        0.0|            0.0|          0.0|        0.0|        0.0|          0.0|             0.0|       0.0|       0.0|         0.0|          0.0|        0.0|        0.0|       0.0|        0.0|        0.0|      0.0|       0.0|       0.0|            0.0|         0.0|         0.0|\n",
      "|   19|6CgNoAbFJ4Q4Id4Ej...|              0.67|       0.717|  0.32|0.8347810614516102|     0.0283|        0.83|             0.0|   0.107|  0.322|           0.431784|           1.0|           0.0|              0.0|          0.0|        0.0|            0.0|          0.0|        0.0|        0.0|          0.0|             0.0|       0.0|       0.0|         0.0|          0.0|        0.0|        0.0|       0.0|        0.0|        0.0|      0.0|       0.0|       0.0|            0.0|         0.0|         0.0|\n",
      "+-----+--------------------+------------------+------------+------+------------------+-----------+------------+----------------+--------+-------+-------------------+--------------+--------------+-----------------+-------------+-----------+---------------+-------------+-----------+-----------+-------------+----------------+----------+----------+------------+-------------+-----------+-----------+----------+-----------+-----------+---------+----------+----------+---------------+------------+------------+\n",
      "only showing top 20 rows\n",
      "\n"
     ]
    }
   ],
   "source": [
    "RECCOMENDATION_DATASET_SCHEMA = StructType([\n",
    "    StructField(\"index\", IntegerType(), True),\n",
    "    StructField(\"track_id\", StringType(), True),\n",
    "    StructField(\"popularity\", DoubleType(), True),\n",
    "    StructField(\"danceability\", DoubleType(), True),\n",
    "    StructField(\"energy\", DoubleType(), True),\n",
    "    StructField(\"loudness\", DoubleType(), True),\n",
    "    StructField(\"speechiness\", DoubleType(), True),\n",
    "    StructField(\"acousticness\", DoubleType(), True),\n",
    "    StructField(\"instrumentalness\", DoubleType(), True),\n",
    "    StructField(\"liveness\", DoubleType(), True),\n",
    "    StructField(\"valence\", DoubleType(), True),\n",
    "    StructField(\"tempo\", DoubleType(), True),\n",
    "] + [\n",
    "    StructField(f\"genre_{genre}\", DoubleType(), True)\n",
    "    for genre in [\n",
    "\t\t'acoustic', 'alt-rock', 'alternative', 'ambient', 'blues', 'classical', 'country', 'dance', \n",
    "\t\t'disco', 'electro', 'electronic', 'folk', 'funk', 'gospel', 'hip-hop', 'house', 'indie', 'jazz', \n",
    "\t\t'latin', 'metal', 'pop', 'rock', 'soul', 'synth-pop', 'techno', 'trance'\n",
    "    ]\n",
    "])\n",
    "\n",
    "song_dataset = spark \\\n",
    "    .read \\\n",
    "    .option(\"mode\", \"PERMISSIVE\") \\\n",
    "    .schema(RECCOMENDATION_DATASET_SCHEMA) \\\n",
    "    .option(\"delimiter\", \"\\t\") \\\n",
    "    .option(\"header\", \"true\") \\\n",
    "    .csv(\"reccomendation_system/SONG_DATASET.csv\")\n",
    "\n",
    "song_dataset.show()"
   ]
  },
  {
   "cell_type": "code",
   "execution_count": 13,
   "id": "fc6a8f6f",
   "metadata": {},
   "outputs": [
    {
     "name": "stdout",
     "output_type": "stream",
     "text": [
      "+------------------+------------+------+------------------+-----------+------------+----------------+--------+-------+-------------------+--------------+--------------+-----------------+-------------+-----------+---------------+-------------+-----------+-----------+-------------+----------------+----------+----------+------------+-------------+-----------+-----------+----------+-----------+-----------+---------+----------+----------+---------------+------------+------------+\n",
      "|        popularity|danceability|energy|          loudness|speechiness|acousticness|instrumentalness|liveness|valence|              tempo|genre_acoustic|genre_alt-rock|genre_alternative|genre_ambient|genre_blues|genre_classical|genre_country|genre_dance|genre_disco|genre_electro|genre_electronic|genre_folk|genre_funk|genre_gospel|genre_hip-hop|genre_house|genre_indie|genre_jazz|genre_latin|genre_metal|genre_pop|genre_rock|genre_soul|genre_synth-pop|genre_techno|genre_trance|\n",
      "+------------------+------------+------+------------------+-----------+------------+----------------+--------+-------+-------------------+--------------+--------------+-----------------+-------------+-----------+---------------+-------------+-----------+-----------+-------------+----------------+----------+----------+------------+-------------+-----------+-----------+----------+-----------+-----------+---------+----------+----------+---------------+------------+------------+\n",
      "|              0.73|       0.676| 0.461|0.8614224939745394|      0.143|      0.0322|         1.01E-6|   0.358|  0.715|0.35166800000000004|           1.0|           0.0|              0.0|          0.0|        0.0|            0.0|          0.0|        0.0|        0.0|          0.0|             0.0|       0.0|       0.0|         0.0|          0.0|        0.0|        0.0|       0.0|        0.0|        0.0|      0.0|       0.0|       0.0|            0.0|         0.0|         0.0|\n",
      "|              0.55|        0.42| 0.166|0.6917552288057456|     0.0763|       0.924|         5.56E-6|   0.101|  0.267|           0.309956|           1.0|           0.0|              0.0|          0.0|        0.0|            0.0|          0.0|        0.0|        0.0|          0.0|             0.0|       0.0|       0.0|         0.0|          0.0|        0.0|        0.0|       0.0|        0.0|        0.0|      0.0|       0.0|       0.0|            0.0|         0.0|         0.0|\n",
      "|0.5700000000000001|       0.438| 0.359|0.8130894032772036|     0.0557|        0.21|             0.0|   0.117|   0.12|           0.305328|           1.0|           0.0|              0.0|          0.0|        0.0|            0.0|          0.0|        0.0|        0.0|          0.0|             0.0|       0.0|       0.0|         0.0|          0.0|        0.0|        0.0|       0.0|        0.0|        0.0|      0.0|       0.0|       0.0|            0.0|         0.0|         0.0|\n",
      "|              0.71|       0.266|0.0596|0.6710502903544103|     0.0363|       0.905|         7.07E-5|   0.132|  0.143|            0.72696|           1.0|           0.0|              0.0|          0.0|        0.0|            0.0|          0.0|        0.0|        0.0|          0.0|             0.0|       0.0|       0.0|         0.0|          0.0|        0.0|        0.0|       0.0|        0.0|        0.0|      0.0|       0.0|       0.0|            0.0|         0.0|         0.0|\n",
      "|0.8200000000000001|       0.618| 0.443|0.8139467171349541|     0.0526|       0.469|             0.0|  0.0829|  0.167|           0.479796|           1.0|           0.0|              0.0|          0.0|        0.0|            0.0|          0.0|        0.0|        0.0|          0.0|             0.0|       0.0|       0.0|         0.0|          0.0|        0.0|        0.0|       0.0|        0.0|        0.0|      0.0|       0.0|       0.0|            0.0|         0.0|         0.0|\n",
      "|              0.58|       0.688| 0.481|0.8280843079212565|      0.105|       0.289|             0.0|   0.189|  0.666|0.39206799999999997|           1.0|           0.0|              0.0|          0.0|        0.0|            0.0|          0.0|        0.0|        0.0|          0.0|             0.0|       0.0|       0.0|         0.0|          0.0|        0.0|        0.0|       0.0|        0.0|        0.0|      0.0|       0.0|       0.0|            0.0|         0.0|         0.0|\n",
      "|              0.74|       0.407| 0.147|  0.82784167192378|     0.0355|       0.857|         2.89E-6|  0.0913| 0.0765|           0.565136|           1.0|           0.0|              0.0|          0.0|        0.0|            0.0|          0.0|        0.0|        0.0|          0.0|             0.0|       0.0|       0.0|         0.0|          0.0|        0.0|        0.0|       0.0|        0.0|        0.0|      0.0|       0.0|       0.0|            0.0|         0.0|         0.0|\n",
      "|               0.8|       0.703| 0.444|0.8196082237427411|     0.0417|       0.559|             0.0|  0.0973|  0.712|            0.60384|           1.0|           0.0|              0.0|          0.0|        0.0|            0.0|          0.0|        0.0|        0.0|          0.0|             0.0|       0.0|       0.0|         0.0|          0.0|        0.0|        0.0|       0.0|        0.0|        0.0|      0.0|       0.0|       0.0|            0.0|         0.0|         0.0|\n",
      "|              0.74|       0.625| 0.414|0.8298151113699228|     0.0369|       0.294|             0.0|   0.151|  0.669|           0.520352|           1.0|           0.0|              0.0|          0.0|        0.0|            0.0|          0.0|        0.0|        0.0|          0.0|             0.0|       0.0|       0.0|         0.0|          0.0|        0.0|        0.0|       0.0|        0.0|        0.0|      0.0|       0.0|       0.0|            0.0|         0.0|         0.0|\n",
      "|              0.56|       0.442| 0.632|0.8610342763785769|     0.0295|       0.426|         0.00419|  0.0735|  0.196|           0.315596|           1.0|           0.0|              0.0|          0.0|        0.0|            0.0|          0.0|        0.0|        0.0|          0.0|             0.0|       0.0|       0.0|         0.0|          0.0|        0.0|        0.0|       0.0|        0.0|        0.0|      0.0|       0.0|       0.0|            0.0|         0.0|         0.0|\n",
      "|              0.74|       0.627| 0.363|0.8390838064735284|     0.0291|       0.279|             0.0|  0.0928|  0.301|0.39962000000000003|           1.0|           0.0|              0.0|          0.0|        0.0|            0.0|          0.0|        0.0|        0.0|          0.0|             0.0|       0.0|       0.0|         0.0|          0.0|        0.0|        0.0|       0.0|        0.0|        0.0|      0.0|       0.0|       0.0|            0.0|         0.0|         0.0|\n",
      "|0.6900000000000001|       0.483| 0.303|0.8078484657317093|     0.0429|       0.694|             0.0|   0.115|  0.139|           0.533624|           1.0|           0.0|              0.0|          0.0|        0.0|            0.0|          0.0|        0.0|        0.0|          0.0|             0.0|       0.0|       0.0|         0.0|          0.0|        0.0|        0.0|       0.0|        0.0|        0.0|      0.0|       0.0|       0.0|            0.0|         0.0|         0.0|\n",
      "|              0.52|       0.489| 0.314|0.8209993367949402|     0.0331|       0.749|             0.0|   0.113|  0.607|           0.496936|           1.0|           0.0|              0.0|          0.0|        0.0|            0.0|          0.0|        0.0|        0.0|          0.0|             0.0|       0.0|       0.0|         0.0|          0.0|        0.0|        0.0|       0.0|        0.0|        0.0|      0.0|       0.0|       0.0|            0.0|         0.0|         0.0|\n",
      "|              0.62|       0.691| 0.234|0.8663560925898967|     0.0285|       0.777|             0.0|    0.12|  0.209|           0.348412|           1.0|           0.0|              0.0|          0.0|        0.0|            0.0|          0.0|        0.0|        0.0|          0.0|             0.0|       0.0|       0.0|         0.0|          0.0|        0.0|        0.0|       0.0|        0.0|        0.0|      0.0|       0.0|       0.0|            0.0|         0.0|         0.0|\n",
      "|              0.56|       0.755|  0.78|0.8721308293298393|     0.0327|       0.124|         2.83E-5|   0.121|  0.387|0.48001600000000005|           1.0|           0.0|              0.0|          0.0|        0.0|            0.0|          0.0|        0.0|        0.0|          0.0|             0.0|       0.0|       0.0|         0.0|          0.0|        0.0|        0.0|       0.0|        0.0|        0.0|      0.0|       0.0|       0.0|            0.0|         0.0|         0.0|\n",
      "|              0.58|       0.489| 0.561|0.8422218987075589|     0.0274|         0.2|         4.56E-5|   0.179|  0.238|0.33382799999999996|           1.0|           0.0|              0.0|          0.0|        0.0|            0.0|          0.0|        0.0|        0.0|          0.0|             0.0|       0.0|       0.0|         0.0|          0.0|        0.0|        0.0|       0.0|        0.0|        0.0|      0.0|       0.0|       0.0|            0.0|         0.0|         0.0|\n",
      "|              0.56|       0.706| 0.112|0.6777955710842594|     0.0391|       0.827|         4.03E-6|   0.125|  0.414|           0.440616|           1.0|           0.0|              0.0|          0.0|        0.0|            0.0|          0.0|        0.0|        0.0|          0.0|             0.0|       0.0|       0.0|         0.0|          0.0|        0.0|        0.0|       0.0|        0.0|        0.0|      0.0|       0.0|       0.0|            0.0|         0.0|         0.0|\n",
      "|              0.54|       0.795|0.0841|0.6779249769495803|     0.0461|       0.742|         1.17E-5|  0.0853|  0.609|           0.367212|           1.0|           0.0|              0.0|          0.0|        0.0|            0.0|          0.0|        0.0|        0.0|          0.0|             0.0|       0.0|       0.0|         0.0|          0.0|        0.0|        0.0|       0.0|        0.0|        0.0|      0.0|       0.0|       0.0|            0.0|         0.0|         0.0|\n",
      "|              0.68|       0.625| 0.414|0.8298151113699228|     0.0369|       0.294|             0.0|   0.151|  0.669|           0.520352|           1.0|           0.0|              0.0|          0.0|        0.0|            0.0|          0.0|        0.0|        0.0|          0.0|             0.0|       0.0|       0.0|         0.0|          0.0|        0.0|        0.0|       0.0|        0.0|        0.0|      0.0|       0.0|       0.0|            0.0|         0.0|         0.0|\n",
      "|              0.67|       0.717|  0.32|0.8347810614516102|     0.0283|        0.83|             0.0|   0.107|  0.322|           0.431784|           1.0|           0.0|              0.0|          0.0|        0.0|            0.0|          0.0|        0.0|        0.0|          0.0|             0.0|       0.0|       0.0|         0.0|          0.0|        0.0|        0.0|       0.0|        0.0|        0.0|      0.0|       0.0|       0.0|            0.0|         0.0|         0.0|\n",
      "+------------------+------------+------+------------------+-----------+------------+----------------+--------+-------+-------------------+--------------+--------------+-----------------+-------------+-----------+---------------+-------------+-----------+-----------+-------------+----------------+----------+----------+------------+-------------+-----------+-----------+----------+-----------+-----------+---------+----------+----------+---------------+------------+------------+\n",
      "only showing top 20 rows\n",
      "\n"
     ]
    }
   ],
   "source": [
    "columns_to_drop = ['index', 'track_id']\n",
    "song_dataset_cosine_sim = song_dataset.drop(*columns_to_drop)\n",
    "\n",
    "song_dataset_cosine_sim.show()"
   ]
  },
  {
   "cell_type": "code",
   "execution_count": 14,
   "id": "33752aa9",
   "metadata": {},
   "outputs": [
    {
     "name": "stdout",
     "output_type": "stream",
     "text": [
      "['popularity', 'danceability', 'energy', 'loudness', 'speechiness', 'acousticness', 'instrumentalness', 'liveness', 'valence', 'tempo', 'genre_acoustic', 'genre_alt-rock', 'genre_alternative', 'genre_ambient', 'genre_blues', 'genre_classical', 'genre_country', 'genre_dance', 'genre_disco', 'genre_electro', 'genre_electronic', 'genre_folk', 'genre_funk', 'genre_gospel', 'genre_hip-hop', 'genre_house', 'genre_indie', 'genre_jazz', 'genre_latin', 'genre_metal', 'genre_pop', 'genre_rock', 'genre_soul', 'genre_synth-pop', 'genre_techno', 'genre_trance']\n"
     ]
    }
   ],
   "source": [
    "dataset_columns = song_dataset_cosine_sim.columns\n",
    "print(dataset_columns)"
   ]
  },
  {
   "cell_type": "code",
   "execution_count": 15,
   "id": "1c19140e",
   "metadata": {},
   "outputs": [
    {
     "data": {
      "text/plain": [
       "['acoustic',\n",
       " 'alt-rock',\n",
       " 'alternative',\n",
       " 'ambient',\n",
       " 'blues',\n",
       " 'classical',\n",
       " 'country',\n",
       " 'dance',\n",
       " 'disco',\n",
       " 'electro',\n",
       " 'electronic',\n",
       " 'folk',\n",
       " 'funk',\n",
       " 'gospel',\n",
       " 'hip-hop',\n",
       " 'house',\n",
       " 'indie',\n",
       " 'jazz',\n",
       " 'latin',\n",
       " 'metal',\n",
       " 'pop',\n",
       " 'rock',\n",
       " 'soul',\n",
       " 'synth-pop',\n",
       " 'techno',\n",
       " 'trance']"
      ]
     },
     "execution_count": 15,
     "metadata": {},
     "output_type": "execute_result"
    }
   ],
   "source": [
    "genres = [genre.replace('genre_','') for genre in song_dataset.columns if \"genre_\" in genre]\n",
    "genres"
   ]
  },
  {
   "cell_type": "code",
   "execution_count": 16,
   "id": "70a2053f",
   "metadata": {},
   "outputs": [
    {
     "name": "stdout",
     "output_type": "stream",
     "text": [
      "root\n",
      " |-- Yt_Id: string (nullable = true)\n",
      " |-- Hdfs_Song_Path: string (nullable = true)\n",
      " |-- artist_name: string (nullable = true)\n",
      "\n"
     ]
    }
   ],
   "source": [
    "columns = ['Yt_Id', 'Hdfs_Song_Path', col('scraped_data.artist.name').alias('artist_name')]\n",
    "df_reccomendation = df_audio \\\n",
    "    .join(df_chords, on=[\"Yt_Id\"], how=\"inner\") \\\n",
    "    .select(*columns)\n",
    "\n",
    "df_reccomendation.printSchema()"
   ]
  },
  {
   "cell_type": "code",
   "execution_count": 17,
   "id": "f66b0899",
   "metadata": {},
   "outputs": [],
   "source": [
    "def reccomend_songs(batch_df, batch_id):\n",
    "\tfor row in batch_df.collect():\n",
    "\t\tvideo_id = row['Yt_Id']\n",
    "\t\trequest_id = row['Yt_Id']\n",
    "\t\thdfs_mp3_file_path = row['Hdfs_Song_Path']\n",
    "\t\tartist_name = row['artist_name']\n",
    "\n",
    "\t\t# getting the df of the song in the same form as the dataset\n",
    "\t\t# {popularity, danceability, energy, loudness, speechiness, acousticness, instrumentalness, liveness, valence, tempo, genre_...}\n",
    "\t\tsong_df = get_song_df(video_id, request_id, hdfs_mp3_file_path, artist_name, genres)\n",
    "\n",
    "\t\t# similarty(dataset, df_song)\n",
    "\t\tx = song_dataset_cosine_sim.toPandas()\n",
    "\t\ty = song_df\n",
    "\t\tsimilarity_scores = cosine_similarity(x, y)\n",
    "\t\t\n",
    "\t\tfeat_vec = song_dataset.toPandas()\n",
    "\t\tfeat_vec['similarity_score'] = similarity_scores\n",
    " \n",
    "\t\t# extract the top 5 most similar songs\n",
    "\t\tartist_genre = extract_genre_from_df(song_df)\n",
    "\t\tprint(\"Genre: \", artist_genre)\n",
    "\t\ttop_similarities_ids = feat_vec\\\n",
    "\t\t\t.loc[feat_vec[f'genre_{artist_genre}'] == 1] \\\n",
    "\t\t\t.sort_values(by='similarity_score', ascending=False) \\\n",
    "\t\t\t.drop_duplicates(subset='track_id') \\\n",
    "\t\t\t.head(5) \\\n",
    "\t\t\t['track_id']\n",
    "\t\t\n",
    "\t\t# estragge solo le statistiche della canzone\n",
    "\t\tsong_stats = song_df.loc[:, ~song_df.columns.str.startswith('genre_')]\n",
    "\t\t\n",
    "\t\t# ricerco per id le canzoni interrogando spotify\n",
    "\t\trecomendations = get_recommendation(request_id, song_stats, top_similarities_ids)\n",
    "\n",
    "\t\t# scrivo su kafka le cnanzoni trovate + statistiche della canzone richiesta\n",
    "\t\twrite_on_kafka(recomendations)\n",
    "\n",
    "df_recommended_songs = df_reccomendation \\\n",
    "\t.writeStream \\\n",
    "\t.foreachBatch(reccomend_songs)\\\n",
    "\t.start()"
   ]
  },
  {
   "cell_type": "code",
   "execution_count": 18,
   "id": "58d09961",
   "metadata": {},
   "outputs": [],
   "source": [
    "SONG_STATS_SCHEMA = StructType([\n",
    "    StructField('danceability', DoubleType(), True),\n",
    "    StructField('energy', DoubleType(), True),\n",
    "    StructField('loudness', DoubleType(), True),\n",
    "    StructField('speechiness', DoubleType(), True),\n",
    "    StructField('acousticness', DoubleType(), True),\n",
    "    StructField('instrumentalness', DoubleType(), True),\n",
    "    StructField('liveness', DoubleType(), True),\n",
    "    StructField('valence', DoubleType(), True),\n",
    "    StructField('tempo', DoubleType(), True),\n",
    "    StructField('popularity', DoubleType(), True),\n",
    "])\n",
    "\n",
    "RECOMMENDED_SONGS_SCHEMA = ArrayType(StructType([\n",
    "        StructField('yt_link', StringType(), True),\n",
    "\t\tStructField('name', StringType(), True),\n",
    "\t\tStructField('artists', ArrayType(StringType()), True),\n",
    "\t\tStructField('album', StringType(), True)\n",
    "]))\n",
    "\n",
    "RECOMMENDATION_SCHEMA = StructType([\n",
    "    StructField(\"Yt_Id\", StringType(), True),\n",
    "    StructField('Song_Stats', SONG_STATS_SCHEMA, True),\n",
    "    StructField('Recommends', RECOMMENDED_SONGS_SCHEMA, True),\n",
    "])"
   ]
  },
  {
   "cell_type": "code",
   "execution_count": 19,
   "id": "719eade4",
   "metadata": {},
   "outputs": [
    {
     "name": "stdout",
     "output_type": "stream",
     "text": [
      "root\n",
      " |-- Yt_Id: string (nullable = true)\n",
      " |-- Song_Stats: struct (nullable = true)\n",
      " |    |-- danceability: double (nullable = true)\n",
      " |    |-- energy: double (nullable = true)\n",
      " |    |-- loudness: double (nullable = true)\n",
      " |    |-- speechiness: double (nullable = true)\n",
      " |    |-- acousticness: double (nullable = true)\n",
      " |    |-- instrumentalness: double (nullable = true)\n",
      " |    |-- liveness: double (nullable = true)\n",
      " |    |-- valence: double (nullable = true)\n",
      " |    |-- tempo: double (nullable = true)\n",
      " |    |-- popularity: double (nullable = true)\n",
      " |-- Recommends: array (nullable = true)\n",
      " |    |-- element: struct (containsNull = true)\n",
      " |    |    |-- yt_link: string (nullable = true)\n",
      " |    |    |-- name: string (nullable = true)\n",
      " |    |    |-- artists: array (nullable = true)\n",
      " |    |    |    |-- element: string (containsNull = true)\n",
      " |    |    |-- album: string (nullable = true)\n",
      "\n"
     ]
    }
   ],
   "source": [
    "df_recommendation_response_raw = spark.readStream \\\n",
    "    .format(\"kafka\") \\\n",
    "    .option(\"kafka.bootstrap.servers\", \"kafkaServer:9092\") \\\n",
    "    .option(\"subscribe\", \"recommendations\") \\\n",
    "    .option(\"startingOffsets\", \"earliest\") \\\n",
    "    .load()\n",
    "\n",
    "df_recommendation_response = df_recommendation_response_raw \\\n",
    "\t.selectExpr(\"CAST(value AS STRING)\") \\\n",
    "\t.select(from_json(col(\"value\"), RECOMMENDATION_SCHEMA).alias(\"data\")) \\\n",
    "\t.select(\"data.*\")\n",
    "\n",
    "df_recommendation_response.printSchema()"
   ]
  },
  {
   "cell_type": "markdown",
   "id": "1000c9db",
   "metadata": {},
   "source": [
    "# Join: Chords - Track Separator - Reccomendation System"
   ]
  },
  {
   "cell_type": "code",
   "execution_count": 20,
   "id": "d8198f7f",
   "metadata": {},
   "outputs": [
    {
     "name": "stdout",
     "output_type": "stream",
     "text": [
      "root\n",
      " |-- Yt_Id: string (nullable = true)\n",
      " |-- Yt_Link: string (nullable = true)\n",
      " |-- UgChords_Link: string (nullable = true)\n",
      " |-- Request_Date: timestamp (nullable = true)\n",
      " |-- scraped_data: struct (nullable = true)\n",
      " |    |-- added_favorites: integer (nullable = true)\n",
      " |    |-- artist: struct (nullable = true)\n",
      " |    |    |-- name: string (nullable = true)\n",
      " |    |    |-- profile_link: string (nullable = true)\n",
      " |    |-- author: struct (nullable = true)\n",
      " |    |    |-- profile_link: string (nullable = true)\n",
      " |    |    |-- username: string (nullable = true)\n",
      " |    |-- capo_position: string (nullable = true)\n",
      " |    |-- chords: string (nullable = true)\n",
      " |    |-- comments: array (nullable = true)\n",
      " |    |    |-- element: struct (containsNull = true)\n",
      " |    |    |    |-- author: string (nullable = true)\n",
      " |    |    |    |-- message: string (nullable = true)\n",
      " |    |    |    |-- date: timestamp (nullable = true)\n",
      " |    |    |    |-- upvote: integer (nullable = true)\n",
      " |    |-- difficulty: string (nullable = true)\n",
      " |    |-- key: string (nullable = true)\n",
      " |    |-- more_versions: array (nullable = true)\n",
      " |    |    |-- element: struct (containsNull = true)\n",
      " |    |    |    |-- link: string (nullable = true)\n",
      " |    |    |    |-- name: string (nullable = true)\n",
      " |    |    |    |-- stars: integer (nullable = true)\n",
      " |    |-- name: string (nullable = true)\n",
      " |    |-- related_tabs: array (nullable = true)\n",
      " |    |    |-- element: struct (containsNull = true)\n",
      " |    |    |    |-- link: string (nullable = true)\n",
      " |    |    |    |-- name: string (nullable = true)\n",
      " |    |    |    |-- stars: integer (nullable = true)\n",
      " |    |-- stars: integer (nullable = true)\n",
      " |    |-- tuning: string (nullable = true)\n",
      " |    |-- url: string (nullable = true)\n",
      " |    |-- views: integer (nullable = true)\n",
      " |-- Yt_Link: string (nullable = true)\n",
      " |-- UgChords_Link: string (nullable = true)\n",
      " |-- Request_Date: timestamp (nullable = true)\n",
      " |-- Hdfs_Song_Path: string (nullable = true)\n",
      " |-- Hdfs_Tracks_Path: string (nullable = true)\n",
      " |-- Song_Stats: struct (nullable = true)\n",
      " |    |-- danceability: double (nullable = true)\n",
      " |    |-- energy: double (nullable = true)\n",
      " |    |-- loudness: double (nullable = true)\n",
      " |    |-- speechiness: double (nullable = true)\n",
      " |    |-- acousticness: double (nullable = true)\n",
      " |    |-- instrumentalness: double (nullable = true)\n",
      " |    |-- liveness: double (nullable = true)\n",
      " |    |-- valence: double (nullable = true)\n",
      " |    |-- tempo: double (nullable = true)\n",
      " |    |-- popularity: double (nullable = true)\n",
      " |-- Recommends: array (nullable = true)\n",
      " |    |-- element: struct (containsNull = true)\n",
      " |    |    |-- yt_link: string (nullable = true)\n",
      " |    |    |-- name: string (nullable = true)\n",
      " |    |    |-- artists: array (nullable = true)\n",
      " |    |    |    |-- element: string (containsNull = true)\n",
      " |    |    |-- album: string (nullable = true)\n",
      "\n"
     ]
    }
   ],
   "source": [
    "df_merged = df_chords \\\n",
    "    .join(df_separated_tracks, on=[\"Yt_Id\"], how=\"inner\") \\\n",
    "    .join(df_recommendation_response, on=[\"Yt_Id\"], how=\"inner\") \\\n",
    "    .drop('scraped_data_raw')\n",
    "df_merged.printSchema()"
   ]
  },
  {
   "cell_type": "markdown",
   "id": "d6c34def",
   "metadata": {},
   "source": [
    "# Scrittura nel topic di output"
   ]
  },
  {
   "cell_type": "code",
   "execution_count": null,
   "id": "322e40a2",
   "metadata": {},
   "outputs": [],
   "source": [
    "df_merged \\\n",
    "\t.selectExpr('cast(Yt_Id as string) as key', 'to_json(struct(*)) as value') \\\n",
    "\t.writeStream \\\n",
    "    .outputMode(\"append\") \\\n",
    "    .format(\"kafka\") \\\n",
    "    .option(\"kafka.bootstrap.servers\", \"kafkaServer:9092\") \\\n",
    "    .option(\"checkpointLocation\", \"/tmp\") \\\n",
    "    .option(\"topic\", \"songs\") \\\n",
    "    .start() \\\n",
    "    .awaitTermination()"
   ]
  }
 ],
 "metadata": {
  "kernelspec": {
   "display_name": "Python 3 (ipykernel)",
   "language": "python",
   "name": "python3"
  },
  "language_info": {
   "codemirror_mode": {
    "name": "ipython",
    "version": 3
   },
   "file_extension": ".py",
   "mimetype": "text/x-python",
   "name": "python",
   "nbconvert_exporter": "python",
   "pygments_lexer": "ipython3",
   "version": "3.11.10"
  }
 },
 "nbformat": 4,
 "nbformat_minor": 5
}
